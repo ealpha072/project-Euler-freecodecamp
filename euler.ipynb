{
 "cells": [
  {
   "cell_type": "markdown",
   "id": "1e2231e1",
   "metadata": {},
   "source": [
    "## Problem 1: Multiples of 3 and 5 Passed\n",
    "If we list all the natural numbers below 10 that are multiples of 3 or 5, we get 3, 5, 6 and 9. The sum of these multiples is 23.\n",
    "\n",
    "Find the sum of all the multiples of 3 or 5 below the provided parameter value number."
   ]
  },
  {
   "cell_type": "code",
   "execution_count": 7,
   "id": "b82f66eb",
   "metadata": {},
   "outputs": [
    {
     "data": {
      "text/plain": [
       "233168"
      ]
     },
     "execution_count": 7,
     "metadata": {},
     "output_type": "execute_result"
    }
   ],
   "source": [
    "def multiplesOf3and5(number):\n",
    "    nums = [i for i in range(1,number) if i % 3 == 0 or i % 5 == 0]\n",
    "    sumarr = 0\n",
    "    for i in nums:\n",
    "        num = i+sumarr\n",
    "        sumarr = num\n",
    "        \n",
    "    return sumarr\n",
    "\n",
    "multiplesOf3and5(1000)"
   ]
  },
  {
   "cell_type": "code",
   "execution_count": null,
   "id": "36730807",
   "metadata": {},
   "outputs": [],
   "source": [
    "assert(multiplesOf3and5(1000))"
   ]
  }
 ],
 "metadata": {
  "kernelspec": {
   "display_name": "Python 3 (ipykernel)",
   "language": "python",
   "name": "python3"
  },
  "language_info": {
   "codemirror_mode": {
    "name": "ipython",
    "version": 3
   },
   "file_extension": ".py",
   "mimetype": "text/x-python",
   "name": "python",
   "nbconvert_exporter": "python",
   "pygments_lexer": "ipython3",
   "version": "3.9.2"
  }
 },
 "nbformat": 4,
 "nbformat_minor": 5
}
